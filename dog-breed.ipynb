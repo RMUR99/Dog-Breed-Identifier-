{
 "cells": [
  {
   "cell_type": "markdown",
   "metadata": {},
   "source": [
    "# 🐶 Dog Breed Classifier \n",
    "\n",
    "This is a notebook that is built to classify dog breeds using Tensorflow  2.16.1 and Tensorflow Hub\n",
    "\n",
    "## 1. Problem \n",
    "Identifying the dog breed based on the image \n",
    "if you see a dog you like and don't know the breed of it \n",
    "\n",
    "## 2. Data \n",
    "Used Data : https://www.kaggle.com/c/dog-breed-identification/data\n",
    "\n",
    "## 3. Evaluation \n",
    "Evaluation is a file with prediiton probabilities for eacch dog breed of each test image \n",
    "https://www.kaggle.com/c/dog-breed-identification/overview\n",
    "## 4. Features \n",
    "Data info : \n",
    "* The work is based on images (Unstructured Data ) therefor we need Deep Learning / Transfer Learning .\n",
    "* Data has 120 Dog breed (meaning we are working with 120 different classes )\n",
    "* There are around 10,000+ images in training set (Labeled images)\n",
    "* There are around 10,000+ in the test set (Unlabeled images for prediction purposes )"
   ]
  },
  {
   "cell_type": "markdown",
   "metadata": {},
   "source": [
    "## Set up the work space\n",
    "  Tensorflow : https://www.tensorflow.org/install\n",
    "  \n",
    "  Tensorflow hub : https://www.tensorflow.org/hub/installation\n",
    " * Import Tensorflow ✅\n",
    " * Import Tensorflow Hub ✅\n",
    " * Make sure to use GPU \n",
    "\n"
   ]
  },
  {
   "cell_type": "code",
   "execution_count": null,
   "metadata": {},
   "outputs": [],
   "source": []
  },
  {
   "cell_type": "code",
   "execution_count": 1,
   "metadata": {},
   "outputs": [
    {
     "name": "stdout",
     "output_type": "stream",
     "text": [
      "Tensorflow Version is 2.10.0\n",
      "Tensorflow hub Version is 0.16.1\n",
      "['/device:CPU:0', '/device:GPU:0']\n",
      "[PhysicalDevice(name='/physical_device:GPU:0', device_type='GPU')]\n"
     ]
    }
   ],
   "source": [
    "# Import tools\n",
    "import tensorflow as tf\n",
    "import tensorflow_hub as hub \n",
    "print(\"Tensorflow Version is\" , tf.__version__)\n",
    "print(\"Tensorflow hub Version is\" , hub.__version__)\n",
    "\n",
    "\n",
    "\n",
    "\n",
    "#lets check GPU availability \n",
    "from tensorflow.python.client import device_lib\n",
    "\n",
    "def get_available_devices():\n",
    "    local_device_protos = device_lib.list_local_devices()\n",
    "    return [x.name for x in local_device_protos]\n",
    "\n",
    "print(get_available_devices())\n",
    "physical_devices = tf.config.experimental.list_physical_devices('GPU')\n",
    "print(physical_devices)\n",
    "\n",
    "\n"
   ]
  },
  {
   "cell_type": "code",
   "execution_count": 4,
   "metadata": {},
   "outputs": [],
   "source": [
    "import pandas as ps "
   ]
  },
  {
   "cell_type": "code",
   "execution_count": 3,
   "metadata": {},
   "outputs": [],
   "source": [
    "import numpy as np "
   ]
  },
  {
   "cell_type": "markdown",
   "metadata": {},
   "source": [
    "## This is a Notebook"
   ]
  },
  {
   "cell_type": "code",
   "execution_count": null,
   "metadata": {},
   "outputs": [],
   "source": []
  }
 ],
 "metadata": {
  "kernelspec": {
   "display_name": "Python 3",
   "language": "python",
   "name": "python3"
  },
  "language_info": {
   "codemirror_mode": {
    "name": "ipython",
    "version": 3
   },
   "file_extension": ".py",
   "mimetype": "text/x-python",
   "name": "python",
   "nbconvert_exporter": "python",
   "pygments_lexer": "ipython3",
   "version": "3.10.14"
  }
 },
 "nbformat": 4,
 "nbformat_minor": 2
}
